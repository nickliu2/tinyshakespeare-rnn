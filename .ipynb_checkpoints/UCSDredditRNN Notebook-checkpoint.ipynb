{
 "cells": [
  {
   "cell_type": "code",
   "execution_count": 5,
   "id": "e90ebe6f",
   "metadata": {},
   "outputs": [],
   "source": [
    "import pandas as pd\n",
    "import zstandard as zstd\n",
    "import json"
   ]
  },
  {
   "cell_type": "code",
   "execution_count": 6,
   "id": "25abc565",
   "metadata": {},
   "outputs": [],
   "source": [
    "paths = 'data/UCSD_submissions.zst'"
   ]
  },
  {
   "cell_type": "code",
   "execution_count": 7,
   "id": "349801b6",
   "metadata": {},
   "outputs": [],
   "source": [
    "data = []\n",
    "with open(\"data/UCSD_submissions.zst\", 'rb') as fh:\n",
    "    dctx = zstd.ZstdDecompressor(max_window_size=2147483648)\n",
    "    with dctx.stream_reader(fh) as reader:\n",
    "        previous_line = \"\"\n",
    "        while True:\n",
    "            chunk = reader.read(2**24)  # 16mb chunks\n",
    "            if not chunk:\n",
    "                break\n",
    "\n",
    "            string_data = chunk.decode('utf-8')\n",
    "            lines = string_data.split(\"\\n\")\n",
    "            for i, line in enumerate(lines[:-1]):\n",
    "                if i == 0:\n",
    "                    line = previous_line + line\n",
    "                object = json.loads(line)\n",
    "                data.append(object)\n",
    "                # do something with the object here\n",
    "            previous_line = lines[-1]\n",
    "with open(\"data/UCSD_comments.zst\", 'rb') as fh:\n",
    "    dctx = zstd.ZstdDecompressor(max_window_size=2147483648)\n",
    "    with dctx.stream_reader(fh) as reader:\n",
    "        previous_line = \"\"\n",
    "        while True:\n",
    "            chunk = reader.read(2**24)  # 16mb chunks\n",
    "            if not chunk:\n",
    "                break\n",
    "\n",
    "            string_data = chunk.decode('utf-8')\n",
    "            lines = string_data.split(\"\\n\")\n",
    "            for i, line in enumerate(lines[:-1]):\n",
    "                if i == 0:\n",
    "                    line = previous_line + line\n",
    "                object = json.loads(line)\n",
    "                data.append(object)\n",
    "                # do something with the object here\n",
    "            previous_line = lines[-1]\n",
    "df = pd.DataFrame(data)"
   ]
  },
  {
   "cell_type": "code",
   "execution_count": 8,
   "id": "5c9f4364",
   "metadata": {},
   "outputs": [
    {
     "data": {
      "text/html": [
       "<div>\n",
       "<style scoped>\n",
       "    .dataframe tbody tr th:only-of-type {\n",
       "        vertical-align: middle;\n",
       "    }\n",
       "\n",
       "    .dataframe tbody tr th {\n",
       "        vertical-align: top;\n",
       "    }\n",
       "\n",
       "    .dataframe thead th {\n",
       "        text-align: right;\n",
       "    }\n",
       "</style>\n",
       "<table border=\"1\" class=\"dataframe\">\n",
       "  <thead>\n",
       "    <tr style=\"text-align: right;\">\n",
       "      <th></th>\n",
       "      <th>archived</th>\n",
       "      <th>author</th>\n",
       "      <th>author_flair_background_color</th>\n",
       "      <th>author_flair_css_class</th>\n",
       "      <th>author_flair_richtext</th>\n",
       "      <th>author_flair_text</th>\n",
       "      <th>author_flair_text_color</th>\n",
       "      <th>author_flair_type</th>\n",
       "      <th>brand_safe</th>\n",
       "      <th>can_gild</th>\n",
       "      <th>...</th>\n",
       "      <th>is_submitter</th>\n",
       "      <th>quarantined</th>\n",
       "      <th>steward_reports</th>\n",
       "      <th>associated_award</th>\n",
       "      <th>collapsed_because_crowd_control</th>\n",
       "      <th>comment_type</th>\n",
       "      <th>collapsed_reason_code</th>\n",
       "      <th>author_is_blocked</th>\n",
       "      <th>unrepliable_reason</th>\n",
       "      <th>editable</th>\n",
       "    </tr>\n",
       "  </thead>\n",
       "  <tbody>\n",
       "    <tr>\n",
       "      <th>0</th>\n",
       "      <td>True</td>\n",
       "      <td>spleeyah</td>\n",
       "      <td>None</td>\n",
       "      <td></td>\n",
       "      <td>[{'e': 'text', 't': 'Class of '12 | Q29tcHV0ZX...</td>\n",
       "      <td>Class of '12 | Q29tcHV0ZXIgU2NpZW5jZQo= (B.S.)</td>\n",
       "      <td>None</td>\n",
       "      <td>richtext</td>\n",
       "      <td>True</td>\n",
       "      <td>True</td>\n",
       "      <td>...</td>\n",
       "      <td>NaN</td>\n",
       "      <td>NaN</td>\n",
       "      <td>NaN</td>\n",
       "      <td>NaN</td>\n",
       "      <td>NaN</td>\n",
       "      <td>NaN</td>\n",
       "      <td>NaN</td>\n",
       "      <td>NaN</td>\n",
       "      <td>NaN</td>\n",
       "      <td>NaN</td>\n",
       "    </tr>\n",
       "    <tr>\n",
       "      <th>1</th>\n",
       "      <td>True</td>\n",
       "      <td>spleeyah</td>\n",
       "      <td>None</td>\n",
       "      <td></td>\n",
       "      <td>[{'e': 'text', 't': 'Class of '12 | Q29tcHV0ZX...</td>\n",
       "      <td>Class of '12 | Q29tcHV0ZXIgU2NpZW5jZQo= (B.S.)</td>\n",
       "      <td>None</td>\n",
       "      <td>richtext</td>\n",
       "      <td>True</td>\n",
       "      <td>True</td>\n",
       "      <td>...</td>\n",
       "      <td>NaN</td>\n",
       "      <td>NaN</td>\n",
       "      <td>NaN</td>\n",
       "      <td>NaN</td>\n",
       "      <td>NaN</td>\n",
       "      <td>NaN</td>\n",
       "      <td>NaN</td>\n",
       "      <td>NaN</td>\n",
       "      <td>NaN</td>\n",
       "      <td>NaN</td>\n",
       "    </tr>\n",
       "    <tr>\n",
       "      <th>2</th>\n",
       "      <td>True</td>\n",
       "      <td>[deleted]</td>\n",
       "      <td></td>\n",
       "      <td>None</td>\n",
       "      <td>NaN</td>\n",
       "      <td>None</td>\n",
       "      <td>dark</td>\n",
       "      <td>NaN</td>\n",
       "      <td>True</td>\n",
       "      <td>False</td>\n",
       "      <td>...</td>\n",
       "      <td>NaN</td>\n",
       "      <td>NaN</td>\n",
       "      <td>NaN</td>\n",
       "      <td>NaN</td>\n",
       "      <td>NaN</td>\n",
       "      <td>NaN</td>\n",
       "      <td>NaN</td>\n",
       "      <td>NaN</td>\n",
       "      <td>NaN</td>\n",
       "      <td>NaN</td>\n",
       "    </tr>\n",
       "    <tr>\n",
       "      <th>3</th>\n",
       "      <td>True</td>\n",
       "      <td>xxbondsxx</td>\n",
       "      <td>None</td>\n",
       "      <td>None</td>\n",
       "      <td>[]</td>\n",
       "      <td>None</td>\n",
       "      <td>None</td>\n",
       "      <td>text</td>\n",
       "      <td>True</td>\n",
       "      <td>True</td>\n",
       "      <td>...</td>\n",
       "      <td>NaN</td>\n",
       "      <td>NaN</td>\n",
       "      <td>NaN</td>\n",
       "      <td>NaN</td>\n",
       "      <td>NaN</td>\n",
       "      <td>NaN</td>\n",
       "      <td>NaN</td>\n",
       "      <td>NaN</td>\n",
       "      <td>NaN</td>\n",
       "      <td>NaN</td>\n",
       "    </tr>\n",
       "    <tr>\n",
       "      <th>4</th>\n",
       "      <td>True</td>\n",
       "      <td>SnowdensOfYesteryear</td>\n",
       "      <td>None</td>\n",
       "      <td>None</td>\n",
       "      <td>[]</td>\n",
       "      <td>None</td>\n",
       "      <td>None</td>\n",
       "      <td>text</td>\n",
       "      <td>True</td>\n",
       "      <td>True</td>\n",
       "      <td>...</td>\n",
       "      <td>NaN</td>\n",
       "      <td>NaN</td>\n",
       "      <td>NaN</td>\n",
       "      <td>NaN</td>\n",
       "      <td>NaN</td>\n",
       "      <td>NaN</td>\n",
       "      <td>NaN</td>\n",
       "      <td>NaN</td>\n",
       "      <td>NaN</td>\n",
       "      <td>NaN</td>\n",
       "    </tr>\n",
       "  </tbody>\n",
       "</table>\n",
       "<p>5 rows × 146 columns</p>\n",
       "</div>"
      ],
      "text/plain": [
       "  archived                author author_flair_background_color  \\\n",
       "0     True              spleeyah                          None   \n",
       "1     True              spleeyah                          None   \n",
       "2     True             [deleted]                                 \n",
       "3     True             xxbondsxx                          None   \n",
       "4     True  SnowdensOfYesteryear                          None   \n",
       "\n",
       "  author_flair_css_class                              author_flair_richtext  \\\n",
       "0                         [{'e': 'text', 't': 'Class of '12 | Q29tcHV0ZX...   \n",
       "1                         [{'e': 'text', 't': 'Class of '12 | Q29tcHV0ZX...   \n",
       "2                   None                                                NaN   \n",
       "3                   None                                                 []   \n",
       "4                   None                                                 []   \n",
       "\n",
       "                                author_flair_text author_flair_text_color  \\\n",
       "0  Class of '12 | Q29tcHV0ZXIgU2NpZW5jZQo= (B.S.)                    None   \n",
       "1  Class of '12 | Q29tcHV0ZXIgU2NpZW5jZQo= (B.S.)                    None   \n",
       "2                                            None                    dark   \n",
       "3                                            None                    None   \n",
       "4                                            None                    None   \n",
       "\n",
       "  author_flair_type brand_safe can_gild  ... is_submitter quarantined  \\\n",
       "0          richtext       True     True  ...          NaN         NaN   \n",
       "1          richtext       True     True  ...          NaN         NaN   \n",
       "2               NaN       True    False  ...          NaN         NaN   \n",
       "3              text       True     True  ...          NaN         NaN   \n",
       "4              text       True     True  ...          NaN         NaN   \n",
       "\n",
       "  steward_reports associated_award collapsed_because_crowd_control  \\\n",
       "0             NaN              NaN                             NaN   \n",
       "1             NaN              NaN                             NaN   \n",
       "2             NaN              NaN                             NaN   \n",
       "3             NaN              NaN                             NaN   \n",
       "4             NaN              NaN                             NaN   \n",
       "\n",
       "   comment_type collapsed_reason_code author_is_blocked unrepliable_reason  \\\n",
       "0           NaN                   NaN               NaN                NaN   \n",
       "1           NaN                   NaN               NaN                NaN   \n",
       "2           NaN                   NaN               NaN                NaN   \n",
       "3           NaN                   NaN               NaN                NaN   \n",
       "4           NaN                   NaN               NaN                NaN   \n",
       "\n",
       "  editable  \n",
       "0      NaN  \n",
       "1      NaN  \n",
       "2      NaN  \n",
       "3      NaN  \n",
       "4      NaN  \n",
       "\n",
       "[5 rows x 146 columns]"
      ]
     },
     "execution_count": 8,
     "metadata": {},
     "output_type": "execute_result"
    }
   ],
   "source": [
    "df.head()"
   ]
  },
  {
   "cell_type": "code",
   "execution_count": 9,
   "id": "c5fc365d",
   "metadata": {
    "scrolled": true
   },
   "outputs": [
    {
     "name": "stdout",
     "output_type": "stream",
     "text": [
      "Index(['archived', 'author', 'author_flair_background_color',\n",
      "       'author_flair_css_class', 'author_flair_richtext', 'author_flair_text',\n",
      "       'author_flair_text_color', 'author_flair_type', 'brand_safe',\n",
      "       'can_gild'],\n",
      "      dtype='object')\n",
      "Index(['contest_mode', 'created_utc', 'distinguished', 'domain', 'edited',\n",
      "       'gilded', 'hidden', 'hide_score', 'id', 'is_crosspostable'],\n",
      "      dtype='object')\n",
      "Index(['is_reddit_media_domain', 'is_self', 'is_video', 'link_flair_css_class',\n",
      "       'link_flair_richtext', 'link_flair_text', 'link_flair_text_color',\n",
      "       'link_flair_type', 'locked', 'media'],\n",
      "      dtype='object')\n",
      "Index(['media_embed', 'no_follow', 'num_comments', 'num_crossposts', 'over_18',\n",
      "       'parent_whitelist_status', 'permalink', 'retrieved_on', 'rte_mode',\n",
      "       'score'],\n",
      "      dtype='object')\n",
      "Index(['secure_media', 'secure_media_embed', 'selftext', 'send_replies',\n",
      "       'spoiler', 'stickied', 'subreddit', 'subreddit_id',\n",
      "       'subreddit_name_prefixed', 'subreddit_type'],\n",
      "      dtype='object')\n",
      "Index(['suggested_sort', 'thumbnail', 'title', 'url', 'whitelist_status',\n",
      "       'thumbnail_height', 'thumbnail_width', 'is_original_content', 'downs',\n",
      "       'num_reports'],\n",
      "      dtype='object')\n",
      "Index(['banned_by', 'name', 'likes', 'clicked', 'saved', 'ups', 'approved_by',\n",
      "       'selftext_html', 'created', 'mod_reports'],\n",
      "      dtype='object')\n",
      "Index(['user_reports', 'report_reasons', 'from', 'from_id', 'from_kind',\n",
      "       'quarantine', 'preview', 'post_hint', 'author_cakeday', 'view_count'],\n",
      "      dtype='object')\n",
      "Index(['approved_at_utc', 'banned_at_utc', 'can_mod_post', 'pinned',\n",
      "       'crosspost_parent', 'crosspost_parent_list', 'mod_note',\n",
      "       'mod_reason_by', 'mod_reason_title', 'subreddit_subscribers'],\n",
      "      dtype='object')\n",
      "Index(['author_flair_template_id', 'category', 'content_categories',\n",
      "       'media_only', 'post_categories', 'pwls', 'removal_reason', 'visited',\n",
      "       'wls', 'link_flair_background_color'],\n",
      "      dtype='object')\n",
      "Index(['link_flair_template_id', 'media_metadata', 'author_created_utc',\n",
      "       'author_fullname', 'is_meta', 'previous_visits', 'gildings',\n",
      "       'is_robot_indexable', 'author_patreon_flair', 'all_awardings'],\n",
      "      dtype='object')\n",
      "Index(['total_awards_received', 'allow_live_comments', 'discussion_type',\n",
      "       'author_premium', 'awarders', 'removed_by', 'removed_by_category',\n",
      "       'treatment_tags', 'poll_data', 'upvote_ratio'],\n",
      "      dtype='object')\n",
      "Index(['is_created_from_ads_ui', 'retrieved_utc', 'top_awarded_type',\n",
      "       'url_overridden_by_dest', 'gallery_data', 'is_gallery',\n",
      "       'call_to_action', 'controversiality', 'score_hidden', 'parent_id'],\n",
      "      dtype='object')\n",
      "Index(['body', 'link_id', 'replies', 'body_html', 'collapsed',\n",
      "       'collapsed_reason', 'is_submitter', 'quarantined', 'steward_reports',\n",
      "       'associated_award'],\n",
      "      dtype='object')\n",
      "Index(['collapsed_because_crowd_control', 'comment_type',\n",
      "       'collapsed_reason_code', 'author_is_blocked', 'unrepliable_reason',\n",
      "       'editable'],\n",
      "      dtype='object')\n"
     ]
    }
   ],
   "source": [
    "# see all the columns\n",
    "for i in range(0, len(df.columns), 10):\n",
    "    print(df.columns[i:i+10])"
   ]
  },
  {
   "cell_type": "code",
   "execution_count": 11,
   "id": "37ab6d5c",
   "metadata": {
    "scrolled": false
   },
   "outputs": [
    {
     "data": {
      "text/plain": [
       "(814431, 146)"
      ]
     },
     "execution_count": 11,
     "metadata": {},
     "output_type": "execute_result"
    }
   ],
   "source": [
    "df.shape"
   ]
  },
  {
   "cell_type": "markdown",
   "id": "7e5fe139",
   "metadata": {},
   "source": [
    "## Data Wrangling"
   ]
  },
  {
   "cell_type": "markdown",
   "id": "0ba73d40",
   "metadata": {},
   "source": [
    "To reduce the dataset and keep it relevant, I will only use the posts from beginning of 2017 to end of 2022."
   ]
  },
  {
   "cell_type": "code",
   "execution_count": 12,
   "id": "f08dbc7b",
   "metadata": {},
   "outputs": [],
   "source": [
    "dates = pd.to_datetime(df['created_utc'], unit = 's')"
   ]
  },
  {
   "cell_type": "code",
   "execution_count": 13,
   "id": "0bb47c51",
   "metadata": {},
   "outputs": [],
   "source": [
    "# to reduce the dataset, find entries that date from the beginning of 2017\n",
    "df['created_date'] = dates\n",
    "new_df = df[df['created_date'] >= '2017-1-01']"
   ]
  },
  {
   "cell_type": "code",
   "execution_count": 14,
   "id": "e426c24f",
   "metadata": {},
   "outputs": [
    {
     "data": {
      "text/plain": [
       "(706829, 147)"
      ]
     },
     "execution_count": 14,
     "metadata": {},
     "output_type": "execute_result"
    }
   ],
   "source": [
    "new_df.shape"
   ]
  },
  {
   "cell_type": "code",
   "execution_count": 15,
   "id": "0df4bb28",
   "metadata": {},
   "outputs": [],
   "source": [
    "# get necessary text from selftext (the content of the original submissions)\n",
    "# and the bodies of comments of the submissions\n",
    "new_df = new_df[['selftext','body']]"
   ]
  },
  {
   "cell_type": "code",
   "execution_count": 16,
   "id": "ef38f446",
   "metadata": {},
   "outputs": [
    {
     "data": {
      "text/html": [
       "<div>\n",
       "<style scoped>\n",
       "    .dataframe tbody tr th:only-of-type {\n",
       "        vertical-align: middle;\n",
       "    }\n",
       "\n",
       "    .dataframe tbody tr th {\n",
       "        vertical-align: top;\n",
       "    }\n",
       "\n",
       "    .dataframe thead th {\n",
       "        text-align: right;\n",
       "    }\n",
       "</style>\n",
       "<table border=\"1\" class=\"dataframe\">\n",
       "  <thead>\n",
       "    <tr style=\"text-align: right;\">\n",
       "      <th></th>\n",
       "      <th>selftext</th>\n",
       "      <th>body</th>\n",
       "    </tr>\n",
       "  </thead>\n",
       "  <tbody>\n",
       "    <tr>\n",
       "      <th>12183</th>\n",
       "      <td>Happy New Year UCSD! Hope everyone reflected o...</td>\n",
       "      <td>NaN</td>\n",
       "    </tr>\n",
       "    <tr>\n",
       "      <th>12184</th>\n",
       "      <td>Friday so you can have the weekend to chill? T...</td>\n",
       "      <td>NaN</td>\n",
       "    </tr>\n",
       "    <tr>\n",
       "      <th>12185</th>\n",
       "      <td>Since the S. Quarterly parking permit isn't av...</td>\n",
       "      <td>NaN</td>\n",
       "    </tr>\n",
       "    <tr>\n",
       "      <th>12186</th>\n",
       "      <td>I'm at a loss nowadays. I'm a third year NanoE...</td>\n",
       "      <td>NaN</td>\n",
       "    </tr>\n",
       "    <tr>\n",
       "      <th>12187</th>\n",
       "      <td>Hey guys, \\n\\nI'm wondering what the best way ...</td>\n",
       "      <td>NaN</td>\n",
       "    </tr>\n",
       "  </tbody>\n",
       "</table>\n",
       "</div>"
      ],
      "text/plain": [
       "                                                selftext body\n",
       "12183  Happy New Year UCSD! Hope everyone reflected o...  NaN\n",
       "12184  Friday so you can have the weekend to chill? T...  NaN\n",
       "12185  Since the S. Quarterly parking permit isn't av...  NaN\n",
       "12186  I'm at a loss nowadays. I'm a third year NanoE...  NaN\n",
       "12187  Hey guys, \\n\\nI'm wondering what the best way ...  NaN"
      ]
     },
     "execution_count": 16,
     "metadata": {},
     "output_type": "execute_result"
    }
   ],
   "source": [
    "# we can see that one of the two, selftext and body columns, are nan as they only can have one or the other.\n",
    "new_df.head()"
   ]
  },
  {
   "cell_type": "code",
   "execution_count": 17,
   "id": "3fdc272b",
   "metadata": {},
   "outputs": [
    {
     "data": {
      "text/html": [
       "<div>\n",
       "<style scoped>\n",
       "    .dataframe tbody tr th:only-of-type {\n",
       "        vertical-align: middle;\n",
       "    }\n",
       "\n",
       "    .dataframe tbody tr th {\n",
       "        vertical-align: top;\n",
       "    }\n",
       "\n",
       "    .dataframe thead th {\n",
       "        text-align: right;\n",
       "    }\n",
       "</style>\n",
       "<table border=\"1\" class=\"dataframe\">\n",
       "  <thead>\n",
       "    <tr style=\"text-align: right;\">\n",
       "      <th></th>\n",
       "      <th>text</th>\n",
       "    </tr>\n",
       "  </thead>\n",
       "  <tbody>\n",
       "    <tr>\n",
       "      <th>12183</th>\n",
       "      <td>Happy New Year UCSD! Hope everyone reflected o...</td>\n",
       "    </tr>\n",
       "    <tr>\n",
       "      <th>12184</th>\n",
       "      <td>Friday so you can have the weekend to chill? T...</td>\n",
       "    </tr>\n",
       "    <tr>\n",
       "      <th>12185</th>\n",
       "      <td>Since the S. Quarterly parking permit isn't av...</td>\n",
       "    </tr>\n",
       "    <tr>\n",
       "      <th>12186</th>\n",
       "      <td>I'm at a loss nowadays. I'm a third year NanoE...</td>\n",
       "    </tr>\n",
       "    <tr>\n",
       "      <th>12187</th>\n",
       "      <td>Hey guys, \\n\\nI'm wondering what the best way ...</td>\n",
       "    </tr>\n",
       "  </tbody>\n",
       "</table>\n",
       "</div>"
      ],
      "text/plain": [
       "                                                    text\n",
       "12183  Happy New Year UCSD! Hope everyone reflected o...\n",
       "12184  Friday so you can have the weekend to chill? T...\n",
       "12185  Since the S. Quarterly parking permit isn't av...\n",
       "12186  I'm at a loss nowadays. I'm a third year NanoE...\n",
       "12187  Hey guys, \\n\\nI'm wondering what the best way ..."
      ]
     },
     "execution_count": 17,
     "metadata": {},
     "output_type": "execute_result"
    }
   ],
   "source": [
    "# set dataframe to contain both selftext and body columns into a combined column called text\n",
    "text = new_df['selftext'].fillna(new_df['body'])\n",
    "combined = pd.DataFrame(text)\n",
    "combined.columns = ['text']\n",
    "combined.head()"
   ]
  },
  {
   "cell_type": "code",
   "execution_count": 18,
   "id": "32972c3f",
   "metadata": {
    "scrolled": true
   },
   "outputs": [
    {
     "data": {
      "text/plain": [
       "(624471, 1)"
      ]
     },
     "execution_count": 18,
     "metadata": {},
     "output_type": "execute_result"
    }
   ],
   "source": [
    "# remove all the '[removed]', '[deleted]', and empty entries for text\n",
    "cond1 = ~(combined['text'] == '')\n",
    "cond2 = ~(combined['text'] == '[removed]')\n",
    "cond3 = ~(combined['text'] == '[deleted]')\n",
    "combined = combined[cond1 & cond2 & cond3]\n",
    "combined.shape"
   ]
  },
  {
   "cell_type": "code",
   "execution_count": 19,
   "id": "46e59964",
   "metadata": {},
   "outputs": [
    {
     "data": {
      "text/html": [
       "<div>\n",
       "<style scoped>\n",
       "    .dataframe tbody tr th:only-of-type {\n",
       "        vertical-align: middle;\n",
       "    }\n",
       "\n",
       "    .dataframe tbody tr th {\n",
       "        vertical-align: top;\n",
       "    }\n",
       "\n",
       "    .dataframe thead th {\n",
       "        text-align: right;\n",
       "    }\n",
       "</style>\n",
       "<table border=\"1\" class=\"dataframe\">\n",
       "  <thead>\n",
       "    <tr style=\"text-align: right;\">\n",
       "      <th></th>\n",
       "      <th>text</th>\n",
       "    </tr>\n",
       "  </thead>\n",
       "  <tbody>\n",
       "    <tr>\n",
       "      <th>12183</th>\n",
       "      <td>Happy New Year UCSD! Hope everyone reflected o...</td>\n",
       "    </tr>\n",
       "    <tr>\n",
       "      <th>12184</th>\n",
       "      <td>Friday so you can have the weekend to chill? T...</td>\n",
       "    </tr>\n",
       "    <tr>\n",
       "      <th>12185</th>\n",
       "      <td>Since the S. Quarterly parking permit isn't av...</td>\n",
       "    </tr>\n",
       "    <tr>\n",
       "      <th>12186</th>\n",
       "      <td>I'm at a loss nowadays. I'm a third year NanoE...</td>\n",
       "    </tr>\n",
       "    <tr>\n",
       "      <th>12187</th>\n",
       "      <td>Hey guys, \\n\\nI'm wondering what the best way ...</td>\n",
       "    </tr>\n",
       "  </tbody>\n",
       "</table>\n",
       "</div>"
      ],
      "text/plain": [
       "                                                    text\n",
       "12183  Happy New Year UCSD! Hope everyone reflected o...\n",
       "12184  Friday so you can have the weekend to chill? T...\n",
       "12185  Since the S. Quarterly parking permit isn't av...\n",
       "12186  I'm at a loss nowadays. I'm a third year NanoE...\n",
       "12187  Hey guys, \\n\\nI'm wondering what the best way ..."
      ]
     },
     "execution_count": 19,
     "metadata": {},
     "output_type": "execute_result"
    }
   ],
   "source": [
    "# save combined\n",
    "combined.head()"
   ]
  },
  {
   "cell_type": "code",
   "execution_count": 20,
   "id": "3df528b5",
   "metadata": {
    "scrolled": true
   },
   "outputs": [
    {
     "data": {
      "text/plain": [
       "12183    Happy New Year UCSD! Hope everyone reflected o...\n",
       "12184    Friday so you can have the weekend to chill? T...\n",
       "12185    Since the S. Quarterly parking permit isn't av...\n",
       "12186    I'm at a loss nowadays. I'm a third year NanoE...\n",
       "12187    Hey guys, \\n\\nI'm wondering what the best way ...\n",
       "12188    my friend is switching out of an impacted majo...\n",
       "12189    If I ask for a grade change for last quarter n...\n",
       "12190    I forgot my ID and room key at home so I need ...\n",
       "12191    I'm a high school junior in the SoCal area int...\n",
       "12192          Sick of dining hall food so help me out fam\n",
       "Name: text, dtype: object"
      ]
     },
     "execution_count": 20,
     "metadata": {},
     "output_type": "execute_result"
    }
   ],
   "source": [
    "combined.iloc[0:10]['text']"
   ]
  },
  {
   "cell_type": "code",
   "execution_count": 24,
   "id": "c82d4ec7",
   "metadata": {},
   "outputs": [],
   "source": [
    "import torch\n",
    "from collections import Counter\n",
    "from torch.utils.data import Dataset, DataLoader"
   ]
  },
  {
   "cell_type": "code",
   "execution_count": 25,
   "id": "5da3a449",
   "metadata": {},
   "outputs": [
    {
     "name": "stdout",
     "output_type": "stream",
     "text": [
      "False\n",
      "0\n"
     ]
    },
    {
     "ename": "AssertionError",
     "evalue": "Torch not compiled with CUDA enabled",
     "output_type": "error",
     "traceback": [
      "\u001b[1;31m---------------------------------------------------------------------------\u001b[0m",
      "\u001b[1;31mAssertionError\u001b[0m                            Traceback (most recent call last)",
      "Cell \u001b[1;32mIn[25], line 3\u001b[0m\n\u001b[0;32m      1\u001b[0m \u001b[38;5;28mprint\u001b[39m(torch\u001b[38;5;241m.\u001b[39mcuda\u001b[38;5;241m.\u001b[39mis_available())  \u001b[38;5;66;03m# Check if CUDA is available\u001b[39;00m\n\u001b[0;32m      2\u001b[0m \u001b[38;5;28mprint\u001b[39m(torch\u001b[38;5;241m.\u001b[39mcuda\u001b[38;5;241m.\u001b[39mdevice_count())  \u001b[38;5;66;03m# Check the number of GPUs available\u001b[39;00m\n\u001b[1;32m----> 3\u001b[0m \u001b[38;5;28mprint\u001b[39m(\u001b[43mtorch\u001b[49m\u001b[38;5;241;43m.\u001b[39;49m\u001b[43mcuda\u001b[49m\u001b[38;5;241;43m.\u001b[39;49m\u001b[43mget_device_name\u001b[49m\u001b[43m(\u001b[49m\u001b[38;5;241;43m0\u001b[39;49m\u001b[43m)\u001b[49m)\n",
      "File \u001b[1;32m~\\miniforge3\\envs\\env\\lib\\site-packages\\torch\\cuda\\__init__.py:423\u001b[0m, in \u001b[0;36mget_device_name\u001b[1;34m(device)\u001b[0m\n\u001b[0;32m    411\u001b[0m \u001b[38;5;28;01mdef\u001b[39;00m \u001b[38;5;21mget_device_name\u001b[39m(device: Optional[_device_t] \u001b[38;5;241m=\u001b[39m \u001b[38;5;28;01mNone\u001b[39;00m) \u001b[38;5;241m-\u001b[39m\u001b[38;5;241m>\u001b[39m \u001b[38;5;28mstr\u001b[39m:\n\u001b[0;32m    412\u001b[0m \u001b[38;5;250m    \u001b[39m\u001b[38;5;124mr\u001b[39m\u001b[38;5;124;03m\"\"\"Get the name of a device.\u001b[39;00m\n\u001b[0;32m    413\u001b[0m \n\u001b[0;32m    414\u001b[0m \u001b[38;5;124;03m    Args:\u001b[39;00m\n\u001b[1;32m   (...)\u001b[0m\n\u001b[0;32m    421\u001b[0m \u001b[38;5;124;03m        str: the name of the device\u001b[39;00m\n\u001b[0;32m    422\u001b[0m \u001b[38;5;124;03m    \"\"\"\u001b[39;00m\n\u001b[1;32m--> 423\u001b[0m     \u001b[38;5;28;01mreturn\u001b[39;00m \u001b[43mget_device_properties\u001b[49m\u001b[43m(\u001b[49m\u001b[43mdevice\u001b[49m\u001b[43m)\u001b[49m\u001b[38;5;241m.\u001b[39mname\n",
      "File \u001b[1;32m~\\miniforge3\\envs\\env\\lib\\site-packages\\torch\\cuda\\__init__.py:453\u001b[0m, in \u001b[0;36mget_device_properties\u001b[1;34m(device)\u001b[0m\n\u001b[0;32m    443\u001b[0m \u001b[38;5;28;01mdef\u001b[39;00m \u001b[38;5;21mget_device_properties\u001b[39m(device: _device_t) \u001b[38;5;241m-\u001b[39m\u001b[38;5;241m>\u001b[39m _CudaDeviceProperties:\n\u001b[0;32m    444\u001b[0m \u001b[38;5;250m    \u001b[39m\u001b[38;5;124mr\u001b[39m\u001b[38;5;124;03m\"\"\"Get the properties of a device.\u001b[39;00m\n\u001b[0;32m    445\u001b[0m \n\u001b[0;32m    446\u001b[0m \u001b[38;5;124;03m    Args:\u001b[39;00m\n\u001b[1;32m   (...)\u001b[0m\n\u001b[0;32m    451\u001b[0m \u001b[38;5;124;03m        _CudaDeviceProperties: the properties of the device\u001b[39;00m\n\u001b[0;32m    452\u001b[0m \u001b[38;5;124;03m    \"\"\"\u001b[39;00m\n\u001b[1;32m--> 453\u001b[0m     \u001b[43m_lazy_init\u001b[49m\u001b[43m(\u001b[49m\u001b[43m)\u001b[49m  \u001b[38;5;66;03m# will define _get_device_properties\u001b[39;00m\n\u001b[0;32m    454\u001b[0m     device \u001b[38;5;241m=\u001b[39m _get_device_index(device, optional\u001b[38;5;241m=\u001b[39m\u001b[38;5;28;01mTrue\u001b[39;00m)\n\u001b[0;32m    455\u001b[0m     \u001b[38;5;28;01mif\u001b[39;00m device \u001b[38;5;241m<\u001b[39m \u001b[38;5;241m0\u001b[39m \u001b[38;5;129;01mor\u001b[39;00m device \u001b[38;5;241m>\u001b[39m\u001b[38;5;241m=\u001b[39m device_count():\n",
      "File \u001b[1;32m~\\miniforge3\\envs\\env\\lib\\site-packages\\torch\\cuda\\__init__.py:293\u001b[0m, in \u001b[0;36m_lazy_init\u001b[1;34m()\u001b[0m\n\u001b[0;32m    288\u001b[0m     \u001b[38;5;28;01mraise\u001b[39;00m \u001b[38;5;167;01mRuntimeError\u001b[39;00m(\n\u001b[0;32m    289\u001b[0m         \u001b[38;5;124m\"\u001b[39m\u001b[38;5;124mCannot re-initialize CUDA in forked subprocess. To use CUDA with \u001b[39m\u001b[38;5;124m\"\u001b[39m\n\u001b[0;32m    290\u001b[0m         \u001b[38;5;124m\"\u001b[39m\u001b[38;5;124mmultiprocessing, you must use the \u001b[39m\u001b[38;5;124m'\u001b[39m\u001b[38;5;124mspawn\u001b[39m\u001b[38;5;124m'\u001b[39m\u001b[38;5;124m start method\u001b[39m\u001b[38;5;124m\"\u001b[39m\n\u001b[0;32m    291\u001b[0m     )\n\u001b[0;32m    292\u001b[0m \u001b[38;5;28;01mif\u001b[39;00m \u001b[38;5;129;01mnot\u001b[39;00m \u001b[38;5;28mhasattr\u001b[39m(torch\u001b[38;5;241m.\u001b[39m_C, \u001b[38;5;124m\"\u001b[39m\u001b[38;5;124m_cuda_getDeviceCount\u001b[39m\u001b[38;5;124m\"\u001b[39m):\n\u001b[1;32m--> 293\u001b[0m     \u001b[38;5;28;01mraise\u001b[39;00m \u001b[38;5;167;01mAssertionError\u001b[39;00m(\u001b[38;5;124m\"\u001b[39m\u001b[38;5;124mTorch not compiled with CUDA enabled\u001b[39m\u001b[38;5;124m\"\u001b[39m)\n\u001b[0;32m    294\u001b[0m \u001b[38;5;28;01mif\u001b[39;00m _cudart \u001b[38;5;129;01mis\u001b[39;00m \u001b[38;5;28;01mNone\u001b[39;00m:\n\u001b[0;32m    295\u001b[0m     \u001b[38;5;28;01mraise\u001b[39;00m \u001b[38;5;167;01mAssertionError\u001b[39;00m(\n\u001b[0;32m    296\u001b[0m         \u001b[38;5;124m\"\u001b[39m\u001b[38;5;124mlibcudart functions unavailable. It looks like you have a broken build?\u001b[39m\u001b[38;5;124m\"\u001b[39m\n\u001b[0;32m    297\u001b[0m     )\n",
      "\u001b[1;31mAssertionError\u001b[0m: Torch not compiled with CUDA enabled"
     ]
    }
   ],
   "source": [
    "print(torch.cuda.is_available())  # Check if CUDA is available\n",
    "print(torch.cuda.device_count())  # Check the number of GPUs available\n",
    "print(torch.cuda.get_device_name(0))  # Get the name of the available GPU"
   ]
  },
  {
   "cell_type": "code",
   "execution_count": null,
   "id": "7b6e439c",
   "metadata": {},
   "outputs": [],
   "source": []
  }
 ],
 "metadata": {
  "kernelspec": {
   "display_name": "Python 3 (ipykernel)",
   "language": "python",
   "name": "python3"
  },
  "language_info": {
   "codemirror_mode": {
    "name": "ipython",
    "version": 3
   },
   "file_extension": ".py",
   "mimetype": "text/x-python",
   "name": "python",
   "nbconvert_exporter": "python",
   "pygments_lexer": "ipython3",
   "version": "3.9.18"
  }
 },
 "nbformat": 4,
 "nbformat_minor": 5
}
