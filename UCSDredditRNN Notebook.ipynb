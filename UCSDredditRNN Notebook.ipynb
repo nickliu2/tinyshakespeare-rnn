{
 "cells": [
  {
   "cell_type": "code",
   "execution_count": 1,
   "id": "e90ebe6f",
   "metadata": {},
   "outputs": [],
   "source": [
    "import pandas as pd\n",
    "import zstandard as zstd\n",
    "import json"
   ]
  },
  {
   "cell_type": "code",
   "execution_count": 2,
   "id": "25abc565",
   "metadata": {},
   "outputs": [],
   "source": [
    "paths = 'data/UCSD_submissions.zst'"
   ]
  },
  {
   "cell_type": "code",
   "execution_count": 3,
   "id": "349801b6",
   "metadata": {},
   "outputs": [],
   "source": [
    "data = []\n",
    "with open(\"data/UCSD_submissions.zst\", 'rb') as fh:\n",
    "    dctx = zstd.ZstdDecompressor(max_window_size=2147483648)\n",
    "    with dctx.stream_reader(fh) as reader:\n",
    "        previous_line = \"\"\n",
    "        while True:\n",
    "            chunk = reader.read(2**24)  # 16mb chunks\n",
    "            if not chunk:\n",
    "                break\n",
    "\n",
    "            string_data = chunk.decode('utf-8')\n",
    "            lines = string_data.split(\"\\n\")\n",
    "            for i, line in enumerate(lines[:-1]):\n",
    "                if i == 0:\n",
    "                    line = previous_line + line\n",
    "                object = json.loads(line)\n",
    "                data.append(object)\n",
    "                # do something with the object here\n",
    "            previous_line = lines[-1]\n",
    "with open(\"data/UCSD_comments.zst\", 'rb') as fh:\n",
    "    dctx = zstd.ZstdDecompressor(max_window_size=2147483648)\n",
    "    with dctx.stream_reader(fh) as reader:\n",
    "        previous_line = \"\"\n",
    "        while True:\n",
    "            chunk = reader.read(2**24)  # 16mb chunks\n",
    "            if not chunk:\n",
    "                break\n",
    "\n",
    "            string_data = chunk.decode('utf-8')\n",
    "            lines = string_data.split(\"\\n\")\n",
    "            for i, line in enumerate(lines[:-1]):\n",
    "                if i == 0:\n",
    "                    line = previous_line + line\n",
    "                object = json.loads(line)\n",
    "                data.append(object)\n",
    "                # do something with the object here\n",
    "            previous_line = lines[-1]\n",
    "df = pd.DataFrame(data)"
   ]
  },
  {
   "cell_type": "code",
   "execution_count": 4,
   "id": "5c9f4364",
   "metadata": {},
   "outputs": [
    {
     "data": {
      "text/html": [
       "<div>\n",
       "<style scoped>\n",
       "    .dataframe tbody tr th:only-of-type {\n",
       "        vertical-align: middle;\n",
       "    }\n",
       "\n",
       "    .dataframe tbody tr th {\n",
       "        vertical-align: top;\n",
       "    }\n",
       "\n",
       "    .dataframe thead th {\n",
       "        text-align: right;\n",
       "    }\n",
       "</style>\n",
       "<table border=\"1\" class=\"dataframe\">\n",
       "  <thead>\n",
       "    <tr style=\"text-align: right;\">\n",
       "      <th></th>\n",
       "      <th>archived</th>\n",
       "      <th>author</th>\n",
       "      <th>author_flair_background_color</th>\n",
       "      <th>author_flair_css_class</th>\n",
       "      <th>author_flair_richtext</th>\n",
       "      <th>author_flair_text</th>\n",
       "      <th>author_flair_text_color</th>\n",
       "      <th>author_flair_type</th>\n",
       "      <th>brand_safe</th>\n",
       "      <th>can_gild</th>\n",
       "      <th>...</th>\n",
       "      <th>is_submitter</th>\n",
       "      <th>quarantined</th>\n",
       "      <th>steward_reports</th>\n",
       "      <th>associated_award</th>\n",
       "      <th>collapsed_because_crowd_control</th>\n",
       "      <th>comment_type</th>\n",
       "      <th>collapsed_reason_code</th>\n",
       "      <th>author_is_blocked</th>\n",
       "      <th>unrepliable_reason</th>\n",
       "      <th>editable</th>\n",
       "    </tr>\n",
       "  </thead>\n",
       "  <tbody>\n",
       "    <tr>\n",
       "      <th>0</th>\n",
       "      <td>True</td>\n",
       "      <td>spleeyah</td>\n",
       "      <td>None</td>\n",
       "      <td></td>\n",
       "      <td>[{'e': 'text', 't': 'Class of '12 | Q29tcHV0ZX...</td>\n",
       "      <td>Class of '12 | Q29tcHV0ZXIgU2NpZW5jZQo= (B.S.)</td>\n",
       "      <td>None</td>\n",
       "      <td>richtext</td>\n",
       "      <td>True</td>\n",
       "      <td>True</td>\n",
       "      <td>...</td>\n",
       "      <td>NaN</td>\n",
       "      <td>NaN</td>\n",
       "      <td>NaN</td>\n",
       "      <td>NaN</td>\n",
       "      <td>NaN</td>\n",
       "      <td>NaN</td>\n",
       "      <td>NaN</td>\n",
       "      <td>NaN</td>\n",
       "      <td>NaN</td>\n",
       "      <td>NaN</td>\n",
       "    </tr>\n",
       "    <tr>\n",
       "      <th>1</th>\n",
       "      <td>True</td>\n",
       "      <td>spleeyah</td>\n",
       "      <td>None</td>\n",
       "      <td></td>\n",
       "      <td>[{'e': 'text', 't': 'Class of '12 | Q29tcHV0ZX...</td>\n",
       "      <td>Class of '12 | Q29tcHV0ZXIgU2NpZW5jZQo= (B.S.)</td>\n",
       "      <td>None</td>\n",
       "      <td>richtext</td>\n",
       "      <td>True</td>\n",
       "      <td>True</td>\n",
       "      <td>...</td>\n",
       "      <td>NaN</td>\n",
       "      <td>NaN</td>\n",
       "      <td>NaN</td>\n",
       "      <td>NaN</td>\n",
       "      <td>NaN</td>\n",
       "      <td>NaN</td>\n",
       "      <td>NaN</td>\n",
       "      <td>NaN</td>\n",
       "      <td>NaN</td>\n",
       "      <td>NaN</td>\n",
       "    </tr>\n",
       "    <tr>\n",
       "      <th>2</th>\n",
       "      <td>True</td>\n",
       "      <td>[deleted]</td>\n",
       "      <td></td>\n",
       "      <td>None</td>\n",
       "      <td>NaN</td>\n",
       "      <td>None</td>\n",
       "      <td>dark</td>\n",
       "      <td>NaN</td>\n",
       "      <td>True</td>\n",
       "      <td>False</td>\n",
       "      <td>...</td>\n",
       "      <td>NaN</td>\n",
       "      <td>NaN</td>\n",
       "      <td>NaN</td>\n",
       "      <td>NaN</td>\n",
       "      <td>NaN</td>\n",
       "      <td>NaN</td>\n",
       "      <td>NaN</td>\n",
       "      <td>NaN</td>\n",
       "      <td>NaN</td>\n",
       "      <td>NaN</td>\n",
       "    </tr>\n",
       "    <tr>\n",
       "      <th>3</th>\n",
       "      <td>True</td>\n",
       "      <td>xxbondsxx</td>\n",
       "      <td>None</td>\n",
       "      <td>None</td>\n",
       "      <td>[]</td>\n",
       "      <td>None</td>\n",
       "      <td>None</td>\n",
       "      <td>text</td>\n",
       "      <td>True</td>\n",
       "      <td>True</td>\n",
       "      <td>...</td>\n",
       "      <td>NaN</td>\n",
       "      <td>NaN</td>\n",
       "      <td>NaN</td>\n",
       "      <td>NaN</td>\n",
       "      <td>NaN</td>\n",
       "      <td>NaN</td>\n",
       "      <td>NaN</td>\n",
       "      <td>NaN</td>\n",
       "      <td>NaN</td>\n",
       "      <td>NaN</td>\n",
       "    </tr>\n",
       "    <tr>\n",
       "      <th>4</th>\n",
       "      <td>True</td>\n",
       "      <td>SnowdensOfYesteryear</td>\n",
       "      <td>None</td>\n",
       "      <td>None</td>\n",
       "      <td>[]</td>\n",
       "      <td>None</td>\n",
       "      <td>None</td>\n",
       "      <td>text</td>\n",
       "      <td>True</td>\n",
       "      <td>True</td>\n",
       "      <td>...</td>\n",
       "      <td>NaN</td>\n",
       "      <td>NaN</td>\n",
       "      <td>NaN</td>\n",
       "      <td>NaN</td>\n",
       "      <td>NaN</td>\n",
       "      <td>NaN</td>\n",
       "      <td>NaN</td>\n",
       "      <td>NaN</td>\n",
       "      <td>NaN</td>\n",
       "      <td>NaN</td>\n",
       "    </tr>\n",
       "  </tbody>\n",
       "</table>\n",
       "<p>5 rows × 146 columns</p>\n",
       "</div>"
      ],
      "text/plain": [
       "  archived                author author_flair_background_color  \\\n",
       "0     True              spleeyah                          None   \n",
       "1     True              spleeyah                          None   \n",
       "2     True             [deleted]                                 \n",
       "3     True             xxbondsxx                          None   \n",
       "4     True  SnowdensOfYesteryear                          None   \n",
       "\n",
       "  author_flair_css_class                              author_flair_richtext  \\\n",
       "0                         [{'e': 'text', 't': 'Class of '12 | Q29tcHV0ZX...   \n",
       "1                         [{'e': 'text', 't': 'Class of '12 | Q29tcHV0ZX...   \n",
       "2                   None                                                NaN   \n",
       "3                   None                                                 []   \n",
       "4                   None                                                 []   \n",
       "\n",
       "                                author_flair_text author_flair_text_color  \\\n",
       "0  Class of '12 | Q29tcHV0ZXIgU2NpZW5jZQo= (B.S.)                    None   \n",
       "1  Class of '12 | Q29tcHV0ZXIgU2NpZW5jZQo= (B.S.)                    None   \n",
       "2                                            None                    dark   \n",
       "3                                            None                    None   \n",
       "4                                            None                    None   \n",
       "\n",
       "  author_flair_type brand_safe can_gild  ... is_submitter quarantined  \\\n",
       "0          richtext       True     True  ...          NaN         NaN   \n",
       "1          richtext       True     True  ...          NaN         NaN   \n",
       "2               NaN       True    False  ...          NaN         NaN   \n",
       "3              text       True     True  ...          NaN         NaN   \n",
       "4              text       True     True  ...          NaN         NaN   \n",
       "\n",
       "  steward_reports associated_award collapsed_because_crowd_control  \\\n",
       "0             NaN              NaN                             NaN   \n",
       "1             NaN              NaN                             NaN   \n",
       "2             NaN              NaN                             NaN   \n",
       "3             NaN              NaN                             NaN   \n",
       "4             NaN              NaN                             NaN   \n",
       "\n",
       "   comment_type collapsed_reason_code author_is_blocked unrepliable_reason  \\\n",
       "0           NaN                   NaN               NaN                NaN   \n",
       "1           NaN                   NaN               NaN                NaN   \n",
       "2           NaN                   NaN               NaN                NaN   \n",
       "3           NaN                   NaN               NaN                NaN   \n",
       "4           NaN                   NaN               NaN                NaN   \n",
       "\n",
       "  editable  \n",
       "0      NaN  \n",
       "1      NaN  \n",
       "2      NaN  \n",
       "3      NaN  \n",
       "4      NaN  \n",
       "\n",
       "[5 rows x 146 columns]"
      ]
     },
     "execution_count": 4,
     "metadata": {},
     "output_type": "execute_result"
    }
   ],
   "source": [
    "df.head()"
   ]
  },
  {
   "cell_type": "code",
   "execution_count": 5,
   "id": "c5fc365d",
   "metadata": {
    "scrolled": true
   },
   "outputs": [
    {
     "name": "stdout",
     "output_type": "stream",
     "text": [
      "Index(['archived', 'author', 'author_flair_background_color',\n",
      "       'author_flair_css_class', 'author_flair_richtext', 'author_flair_text',\n",
      "       'author_flair_text_color', 'author_flair_type', 'brand_safe',\n",
      "       'can_gild'],\n",
      "      dtype='object')\n",
      "Index(['contest_mode', 'created_utc', 'distinguished', 'domain', 'edited',\n",
      "       'gilded', 'hidden', 'hide_score', 'id', 'is_crosspostable'],\n",
      "      dtype='object')\n",
      "Index(['is_reddit_media_domain', 'is_self', 'is_video', 'link_flair_css_class',\n",
      "       'link_flair_richtext', 'link_flair_text', 'link_flair_text_color',\n",
      "       'link_flair_type', 'locked', 'media'],\n",
      "      dtype='object')\n",
      "Index(['media_embed', 'no_follow', 'num_comments', 'num_crossposts', 'over_18',\n",
      "       'parent_whitelist_status', 'permalink', 'retrieved_on', 'rte_mode',\n",
      "       'score'],\n",
      "      dtype='object')\n",
      "Index(['secure_media', 'secure_media_embed', 'selftext', 'send_replies',\n",
      "       'spoiler', 'stickied', 'subreddit', 'subreddit_id',\n",
      "       'subreddit_name_prefixed', 'subreddit_type'],\n",
      "      dtype='object')\n",
      "Index(['suggested_sort', 'thumbnail', 'title', 'url', 'whitelist_status',\n",
      "       'thumbnail_height', 'thumbnail_width', 'is_original_content', 'downs',\n",
      "       'num_reports'],\n",
      "      dtype='object')\n",
      "Index(['banned_by', 'name', 'likes', 'clicked', 'saved', 'ups', 'approved_by',\n",
      "       'selftext_html', 'created', 'mod_reports'],\n",
      "      dtype='object')\n",
      "Index(['user_reports', 'report_reasons', 'from', 'from_id', 'from_kind',\n",
      "       'quarantine', 'preview', 'post_hint', 'author_cakeday', 'view_count'],\n",
      "      dtype='object')\n",
      "Index(['approved_at_utc', 'banned_at_utc', 'can_mod_post', 'pinned',\n",
      "       'crosspost_parent', 'crosspost_parent_list', 'mod_note',\n",
      "       'mod_reason_by', 'mod_reason_title', 'subreddit_subscribers'],\n",
      "      dtype='object')\n",
      "Index(['author_flair_template_id', 'category', 'content_categories',\n",
      "       'media_only', 'post_categories', 'pwls', 'removal_reason', 'visited',\n",
      "       'wls', 'link_flair_background_color'],\n",
      "      dtype='object')\n",
      "Index(['link_flair_template_id', 'media_metadata', 'author_created_utc',\n",
      "       'author_fullname', 'is_meta', 'previous_visits', 'gildings',\n",
      "       'is_robot_indexable', 'author_patreon_flair', 'all_awardings'],\n",
      "      dtype='object')\n",
      "Index(['total_awards_received', 'allow_live_comments', 'discussion_type',\n",
      "       'author_premium', 'awarders', 'removed_by', 'removed_by_category',\n",
      "       'treatment_tags', 'poll_data', 'upvote_ratio'],\n",
      "      dtype='object')\n",
      "Index(['is_created_from_ads_ui', 'retrieved_utc', 'top_awarded_type',\n",
      "       'url_overridden_by_dest', 'gallery_data', 'is_gallery',\n",
      "       'call_to_action', 'controversiality', 'score_hidden', 'parent_id'],\n",
      "      dtype='object')\n",
      "Index(['body', 'link_id', 'replies', 'body_html', 'collapsed',\n",
      "       'collapsed_reason', 'is_submitter', 'quarantined', 'steward_reports',\n",
      "       'associated_award'],\n",
      "      dtype='object')\n",
      "Index(['collapsed_because_crowd_control', 'comment_type',\n",
      "       'collapsed_reason_code', 'author_is_blocked', 'unrepliable_reason',\n",
      "       'editable'],\n",
      "      dtype='object')\n"
     ]
    }
   ],
   "source": [
    "# see all the columns\n",
    "for i in range(0, len(df.columns), 10):\n",
    "    print(df.columns[i:i+10])"
   ]
  },
  {
   "cell_type": "code",
   "execution_count": 6,
   "id": "37ab6d5c",
   "metadata": {
    "scrolled": false
   },
   "outputs": [
    {
     "data": {
      "text/plain": [
       "(814431, 146)"
      ]
     },
     "execution_count": 6,
     "metadata": {},
     "output_type": "execute_result"
    }
   ],
   "source": [
    "df.shape"
   ]
  },
  {
   "cell_type": "markdown",
   "id": "7e5fe139",
   "metadata": {},
   "source": [
    "## Data Wrangling"
   ]
  },
  {
   "cell_type": "markdown",
   "id": "0ba73d40",
   "metadata": {},
   "source": [
    "To reduce the dataset and keep it relevant, I will only use the posts from beginning of 2017 to end of 2022."
   ]
  },
  {
   "cell_type": "code",
   "execution_count": 7,
   "id": "f08dbc7b",
   "metadata": {},
   "outputs": [],
   "source": [
    "dates = pd.to_datetime(df['created_utc'], unit = 's')"
   ]
  },
  {
   "cell_type": "code",
   "execution_count": 8,
   "id": "0bb47c51",
   "metadata": {},
   "outputs": [],
   "source": [
    "# to reduce the dataset, find entries that date from the beginning of 2017\n",
    "df['created_date'] = dates\n",
    "new_df = df[df['created_date'] >= '2017-1-01']"
   ]
  },
  {
   "cell_type": "code",
   "execution_count": 9,
   "id": "e426c24f",
   "metadata": {},
   "outputs": [
    {
     "data": {
      "text/plain": [
       "(706829, 147)"
      ]
     },
     "execution_count": 9,
     "metadata": {},
     "output_type": "execute_result"
    }
   ],
   "source": [
    "new_df.shape"
   ]
  },
  {
   "cell_type": "code",
   "execution_count": 10,
   "id": "0df4bb28",
   "metadata": {},
   "outputs": [],
   "source": [
    "# get necessary text from selftext (the content of the original submissions)\n",
    "# and the bodies of comments of the submissions\n",
    "new_df = new_df[['selftext','body']]"
   ]
  },
  {
   "cell_type": "code",
   "execution_count": 11,
   "id": "ef38f446",
   "metadata": {},
   "outputs": [
    {
     "data": {
      "text/html": [
       "<div>\n",
       "<style scoped>\n",
       "    .dataframe tbody tr th:only-of-type {\n",
       "        vertical-align: middle;\n",
       "    }\n",
       "\n",
       "    .dataframe tbody tr th {\n",
       "        vertical-align: top;\n",
       "    }\n",
       "\n",
       "    .dataframe thead th {\n",
       "        text-align: right;\n",
       "    }\n",
       "</style>\n",
       "<table border=\"1\" class=\"dataframe\">\n",
       "  <thead>\n",
       "    <tr style=\"text-align: right;\">\n",
       "      <th></th>\n",
       "      <th>selftext</th>\n",
       "      <th>body</th>\n",
       "    </tr>\n",
       "  </thead>\n",
       "  <tbody>\n",
       "    <tr>\n",
       "      <th>12183</th>\n",
       "      <td>Happy New Year UCSD! Hope everyone reflected o...</td>\n",
       "      <td>NaN</td>\n",
       "    </tr>\n",
       "    <tr>\n",
       "      <th>12184</th>\n",
       "      <td>Friday so you can have the weekend to chill? T...</td>\n",
       "      <td>NaN</td>\n",
       "    </tr>\n",
       "    <tr>\n",
       "      <th>12185</th>\n",
       "      <td>Since the S. Quarterly parking permit isn't av...</td>\n",
       "      <td>NaN</td>\n",
       "    </tr>\n",
       "    <tr>\n",
       "      <th>12186</th>\n",
       "      <td>I'm at a loss nowadays. I'm a third year NanoE...</td>\n",
       "      <td>NaN</td>\n",
       "    </tr>\n",
       "    <tr>\n",
       "      <th>12187</th>\n",
       "      <td>Hey guys, \\n\\nI'm wondering what the best way ...</td>\n",
       "      <td>NaN</td>\n",
       "    </tr>\n",
       "  </tbody>\n",
       "</table>\n",
       "</div>"
      ],
      "text/plain": [
       "                                                selftext body\n",
       "12183  Happy New Year UCSD! Hope everyone reflected o...  NaN\n",
       "12184  Friday so you can have the weekend to chill? T...  NaN\n",
       "12185  Since the S. Quarterly parking permit isn't av...  NaN\n",
       "12186  I'm at a loss nowadays. I'm a third year NanoE...  NaN\n",
       "12187  Hey guys, \\n\\nI'm wondering what the best way ...  NaN"
      ]
     },
     "execution_count": 11,
     "metadata": {},
     "output_type": "execute_result"
    }
   ],
   "source": [
    "# we can see that one of the two, selftext and body columns, are nan as they only can have one or the other.\n",
    "new_df.head()"
   ]
  },
  {
   "cell_type": "code",
   "execution_count": 12,
   "id": "3fdc272b",
   "metadata": {},
   "outputs": [
    {
     "data": {
      "text/html": [
       "<div>\n",
       "<style scoped>\n",
       "    .dataframe tbody tr th:only-of-type {\n",
       "        vertical-align: middle;\n",
       "    }\n",
       "\n",
       "    .dataframe tbody tr th {\n",
       "        vertical-align: top;\n",
       "    }\n",
       "\n",
       "    .dataframe thead th {\n",
       "        text-align: right;\n",
       "    }\n",
       "</style>\n",
       "<table border=\"1\" class=\"dataframe\">\n",
       "  <thead>\n",
       "    <tr style=\"text-align: right;\">\n",
       "      <th></th>\n",
       "      <th>text</th>\n",
       "    </tr>\n",
       "  </thead>\n",
       "  <tbody>\n",
       "    <tr>\n",
       "      <th>12183</th>\n",
       "      <td>Happy New Year UCSD! Hope everyone reflected o...</td>\n",
       "    </tr>\n",
       "    <tr>\n",
       "      <th>12184</th>\n",
       "      <td>Friday so you can have the weekend to chill? T...</td>\n",
       "    </tr>\n",
       "    <tr>\n",
       "      <th>12185</th>\n",
       "      <td>Since the S. Quarterly parking permit isn't av...</td>\n",
       "    </tr>\n",
       "    <tr>\n",
       "      <th>12186</th>\n",
       "      <td>I'm at a loss nowadays. I'm a third year NanoE...</td>\n",
       "    </tr>\n",
       "    <tr>\n",
       "      <th>12187</th>\n",
       "      <td>Hey guys, \\n\\nI'm wondering what the best way ...</td>\n",
       "    </tr>\n",
       "  </tbody>\n",
       "</table>\n",
       "</div>"
      ],
      "text/plain": [
       "                                                    text\n",
       "12183  Happy New Year UCSD! Hope everyone reflected o...\n",
       "12184  Friday so you can have the weekend to chill? T...\n",
       "12185  Since the S. Quarterly parking permit isn't av...\n",
       "12186  I'm at a loss nowadays. I'm a third year NanoE...\n",
       "12187  Hey guys, \\n\\nI'm wondering what the best way ..."
      ]
     },
     "execution_count": 12,
     "metadata": {},
     "output_type": "execute_result"
    }
   ],
   "source": [
    "# set dataframe to contain both selftext and body columns into a combined column called text\n",
    "text = new_df['selftext'].fillna(new_df['body'])\n",
    "combined = pd.DataFrame(text)\n",
    "combined.columns = ['text']\n",
    "combined.head()"
   ]
  },
  {
   "cell_type": "code",
   "execution_count": 13,
   "id": "32972c3f",
   "metadata": {
    "scrolled": true
   },
   "outputs": [
    {
     "data": {
      "text/plain": [
       "(624471, 1)"
      ]
     },
     "execution_count": 13,
     "metadata": {},
     "output_type": "execute_result"
    }
   ],
   "source": [
    "# remove all the '[removed]', '[deleted]', and empty entries for text\n",
    "cond1 = ~(combined['text'] == '')\n",
    "cond2 = ~(combined['text'] == '[removed]')\n",
    "cond3 = ~(combined['text'] == '[deleted]')\n",
    "combined = combined[cond1 & cond2 & cond3]\n",
    "combined.shape"
   ]
  },
  {
   "cell_type": "code",
   "execution_count": 14,
   "id": "46e59964",
   "metadata": {
    "scrolled": true
   },
   "outputs": [
    {
     "data": {
      "text/html": [
       "<div>\n",
       "<style scoped>\n",
       "    .dataframe tbody tr th:only-of-type {\n",
       "        vertical-align: middle;\n",
       "    }\n",
       "\n",
       "    .dataframe tbody tr th {\n",
       "        vertical-align: top;\n",
       "    }\n",
       "\n",
       "    .dataframe thead th {\n",
       "        text-align: right;\n",
       "    }\n",
       "</style>\n",
       "<table border=\"1\" class=\"dataframe\">\n",
       "  <thead>\n",
       "    <tr style=\"text-align: right;\">\n",
       "      <th></th>\n",
       "      <th>text</th>\n",
       "    </tr>\n",
       "  </thead>\n",
       "  <tbody>\n",
       "    <tr>\n",
       "      <th>12183</th>\n",
       "      <td>Happy New Year UCSD! Hope everyone reflected o...</td>\n",
       "    </tr>\n",
       "    <tr>\n",
       "      <th>12184</th>\n",
       "      <td>Friday so you can have the weekend to chill? T...</td>\n",
       "    </tr>\n",
       "    <tr>\n",
       "      <th>12185</th>\n",
       "      <td>Since the S. Quarterly parking permit isn't av...</td>\n",
       "    </tr>\n",
       "    <tr>\n",
       "      <th>12186</th>\n",
       "      <td>I'm at a loss nowadays. I'm a third year NanoE...</td>\n",
       "    </tr>\n",
       "    <tr>\n",
       "      <th>12187</th>\n",
       "      <td>Hey guys, \\n\\nI'm wondering what the best way ...</td>\n",
       "    </tr>\n",
       "  </tbody>\n",
       "</table>\n",
       "</div>"
      ],
      "text/plain": [
       "                                                    text\n",
       "12183  Happy New Year UCSD! Hope everyone reflected o...\n",
       "12184  Friday so you can have the weekend to chill? T...\n",
       "12185  Since the S. Quarterly parking permit isn't av...\n",
       "12186  I'm at a loss nowadays. I'm a third year NanoE...\n",
       "12187  Hey guys, \\n\\nI'm wondering what the best way ..."
      ]
     },
     "execution_count": 14,
     "metadata": {},
     "output_type": "execute_result"
    }
   ],
   "source": [
    "# save combined\n",
    "combined.head()"
   ]
  },
  {
   "cell_type": "markdown",
   "id": "3ba34405",
   "metadata": {},
   "source": [
    "### Cleaning"
   ]
  },
  {
   "cell_type": "code",
   "execution_count": 27,
   "id": "8624fe2b",
   "metadata": {},
   "outputs": [],
   "source": [
    "import re\n",
    "import string\n",
    "import random\n",
    "from nltk.corpus import stopwords\n",
    "from nltk.stem import PorterStemmer\n",
    "from nltk.tokenize import word_tokenize\n",
    "import nltk"
   ]
  },
  {
   "cell_type": "code",
   "execution_count": 18,
   "id": "e78a6e1f",
   "metadata": {},
   "outputs": [
    {
     "name": "stderr",
     "output_type": "stream",
     "text": [
      "[nltk_data] Downloading package punkt to\n",
      "[nltk_data]     C:\\Users\\Nick\\AppData\\Roaming\\nltk_data...\n",
      "[nltk_data]   Unzipping tokenizers\\punkt.zip.\n",
      "[nltk_data] Downloading package stopwords to\n",
      "[nltk_data]     C:\\Users\\Nick\\AppData\\Roaming\\nltk_data...\n",
      "[nltk_data]   Unzipping corpora\\stopwords.zip.\n"
     ]
    },
    {
     "data": {
      "text/plain": [
       "True"
      ]
     },
     "execution_count": 18,
     "metadata": {},
     "output_type": "execute_result"
    }
   ],
   "source": [
    "# Download NLTK data\n",
    "nltk.download('punkt')\n",
    "nltk.download('stopwords')"
   ]
  },
  {
   "cell_type": "code",
   "execution_count": 278,
   "id": "8aee4fd5",
   "metadata": {},
   "outputs": [],
   "source": [
    "def clean_text(text):\n",
    "    # Lowercasing\n",
    "#     text = text.lower()\n",
    "    \n",
    "    # Removing URLs\n",
    "    text = re.sub(r'https?://\\S+|www\\.\\S+', '', text)\n",
    "    \n",
    "    # Removing special characters and numbers\n",
    "    text = re.sub(r'[^a-zA-Z\\s]', '', text)\n",
    "    \n",
    "    \n",
    "    # Tokenization\n",
    "    words = word_tokenize(text)\n",
    "    \n",
    "    # Removing stopwords\n",
    "    stopwords_set = set(stopwords.words('english'))\n",
    "    words = [word for word in words if word not in stopwords_set]\n",
    "\n",
    "    return ' '.join(words)"
   ]
  },
  {
   "cell_type": "code",
   "execution_count": 279,
   "id": "b7e4895b",
   "metadata": {},
   "outputs": [],
   "source": [
    "text = ' '.join(combined['text'].values)"
   ]
  },
  {
   "cell_type": "code",
   "execution_count": 280,
   "id": "bb98c062",
   "metadata": {},
   "outputs": [],
   "source": [
    "cleaned_text = clean_text(text)"
   ]
  },
  {
   "cell_type": "code",
   "execution_count": 281,
   "id": "d1ffaeff",
   "metadata": {
    "scrolled": true
   },
   "outputs": [
    {
     "data": {
      "text/plain": [
       "'Happy New Year UCSD Hope everyone reflected worked didnt Lets start year strong Friday weekend chill Tomorrow hate life home Sunday night time rushing monday Since S Quarterly parking permit isnt available online I drive Gilman parking structure pay permit Would office open Sunday Im loss nowadays Im third year NanoEngineering major Im starting realize major black hole employers dont know opportunities seem scarce undergrad degree On bright side getting ABET accreditation soon I dont even know I'"
      ]
     },
     "execution_count": 281,
     "metadata": {},
     "output_type": "execute_result"
    }
   ],
   "source": [
    "cleaned_text[:500]"
   ]
  },
  {
   "cell_type": "code",
   "execution_count": 282,
   "id": "4f9c8754",
   "metadata": {},
   "outputs": [],
   "source": [
    "text_len = len(cleaned_text)"
   ]
  },
  {
   "cell_type": "code",
   "execution_count": 283,
   "id": "93c45d1a",
   "metadata": {},
   "outputs": [
    {
     "name": "stdout",
     "output_type": "stream",
     "text": [
      "hone interview mainly behavior screening test really sees good fit add team technical interview I really recommend also go interviews write interview q\n"
     ]
    }
   ],
   "source": [
    "chunk_len = 150\n",
    "\n",
    "def random_chunk():\n",
    "    start_index = random.randint(0, len(cleaned_text) - chunk_len-1)\n",
    "    end_index = start_index + chunk_len + 1\n",
    "    return cleaned_text[start_index:end_index]\n",
    "\n",
    "print(random_chunk())"
   ]
  },
  {
   "cell_type": "markdown",
   "id": "8ee82819",
   "metadata": {},
   "source": [
    "### Modeling"
   ]
  },
  {
   "cell_type": "code",
   "execution_count": 284,
   "id": "120dc03a",
   "metadata": {},
   "outputs": [],
   "source": [
    "import torch\n",
    "import torch.nn as nn\n",
    "from torch.autograd import Variable\n",
    "\n",
    "class RNN(nn.Module):\n",
    "    def __init__(self, input_size, hidden_size, output_size, n_layers=1):\n",
    "        super(RNN, self).__init__()\n",
    "        self.input_size = input_size\n",
    "        self.hidden_size = hidden_size\n",
    "        self.output_size = output_size\n",
    "        self.n_layers = n_layers\n",
    "        \n",
    "        self.encoder = nn.Embedding(input_size, hidden_size)\n",
    "        self.gru = nn.GRU(hidden_size, hidden_size, n_layers)\n",
    "        self.decoder = nn.Linear(hidden_size, output_size)\n",
    "    \n",
    "    def forward(self, input, hidden):\n",
    "        input = self.encoder(input.view(1, -1))\n",
    "        output, hidden = self.gru(input.view(1, 1, -1), hidden)\n",
    "        output = self.decoder(output.view(1, -1))\n",
    "        return output, hidden\n",
    "\n",
    "    def init_hidden(self):\n",
    "        return Variable(torch.zeros(self.n_layers, 1, self.hidden_size))"
   ]
  },
  {
   "cell_type": "code",
   "execution_count": 285,
   "id": "edc41b80",
   "metadata": {},
   "outputs": [],
   "source": [
    "import string\n",
    "import random\n",
    "import re"
   ]
  },
  {
   "cell_type": "code",
   "execution_count": 286,
   "id": "76d0a288",
   "metadata": {},
   "outputs": [],
   "source": [
    "all_characters = sorted(set(cleaned_text))\n",
    "n_characters = len(all_characters)"
   ]
  },
  {
   "cell_type": "code",
   "execution_count": 288,
   "id": "b24a375b",
   "metadata": {},
   "outputs": [
    {
     "name": "stdout",
     "output_type": "stream",
     "text": [
      " living situation campus worsen homesickness Pure Math Math A nothing laugh Thats sad even worse definitely werent one Why scared Just go ask front desk good bro theyre real friendly understand probs h\n"
     ]
    }
   ],
   "source": [
    "chunk_len = 200\n",
    "\n",
    "def random_chunk():\n",
    "    start_index = random.randint(0, text_len - chunk_len)\n",
    "    end_index = start_index + chunk_len + 1\n",
    "    return cleaned_text[start_index:end_index]\n",
    "\n",
    "print(random_chunk())"
   ]
  },
  {
   "cell_type": "code",
   "execution_count": 289,
   "id": "bcc1c86d",
   "metadata": {},
   "outputs": [
    {
     "name": "stdout",
     "output_type": "stream",
     "text": [
      "tensor([27, 28, 29])\n"
     ]
    }
   ],
   "source": [
    "# Turn string into list of longs\n",
    "def char_tensor(string):\n",
    "    tensor = torch.zeros(len(string)).long()\n",
    "    for c in range(len(string)):\n",
    "        tensor[c] = all_characters.index(string[c])\n",
    "    return Variable(tensor)\n",
    "\n",
    "print(char_tensor('abc'))"
   ]
  },
  {
   "cell_type": "code",
   "execution_count": 290,
   "id": "b1880e58",
   "metadata": {},
   "outputs": [],
   "source": [
    "def random_training_set():    \n",
    "    chunk = random_chunk()\n",
    "    inp = char_tensor(chunk[:-1]).to(device)  # Move to device\n",
    "    target = char_tensor(chunk[1:]).to(device)  # Move to device\n",
    "    return inp, target"
   ]
  },
  {
   "cell_type": "code",
   "execution_count": 291,
   "id": "5060f316",
   "metadata": {},
   "outputs": [],
   "source": [
    "def evaluate(prime_str='A', predict_len=100, temperature=0.8):\n",
    "    # Ensure the decoder is in eval mode\n",
    "    decoder.eval()\n",
    "\n",
    "    # Move the decoder's initial hidden state to the correct device\n",
    "    hidden = decoder.init_hidden().to(device)\n",
    "\n",
    "    # Convert the prime string to a tensor and move it to the correct device\n",
    "    prime_input = char_tensor(prime_str).to(device)\n",
    "\n",
    "    predicted = prime_str\n",
    "\n",
    "    # Use priming string to \"build up\" hidden state\n",
    "    for p in range(len(prime_str) - 1):\n",
    "        _, hidden = decoder(prime_input[p].unsqueeze(0), hidden)\n",
    "    inp = prime_input[-1]\n",
    "\n",
    "    for p in range(predict_len):\n",
    "        # Make sure to add an extra dimension for batch size = 1\n",
    "        output, hidden = decoder(inp.unsqueeze(0), hidden)\n",
    "        \n",
    "        # Sample from the network as a multinomial distribution\n",
    "        output_dist = output.data.view(-1).div(temperature).exp()\n",
    "        top_i = torch.multinomial(output_dist, 1)[0]\n",
    "\n",
    "        # Move the predicted index back to CPU for processing\n",
    "        predicted_char = all_characters[top_i.item()]\n",
    "        predicted += predicted_char\n",
    "\n",
    "        # Convert the predicted character to a tensor for the next input\n",
    "        inp = char_tensor(predicted_char).to(device)\n",
    "\n",
    "    # Switch back to training mode\n",
    "    decoder.train()\n",
    "    \n",
    "    return predicted\n"
   ]
  },
  {
   "cell_type": "code",
   "execution_count": 292,
   "id": "d6aaf969",
   "metadata": {},
   "outputs": [],
   "source": [
    "import time, math\n",
    "\n",
    "def time_since(since):\n",
    "    s = time.time() - since\n",
    "    m = math.floor(s / 60)\n",
    "    s -= m * 60\n",
    "    return '%dm %ds' % (m, s)"
   ]
  },
  {
   "cell_type": "code",
   "execution_count": 293,
   "id": "699a063e",
   "metadata": {},
   "outputs": [],
   "source": [
    "def train(inp, target):\n",
    "    hidden = decoder.init_hidden().to(device)  # Initialize hidden state and move to device\n",
    "    inp, target = inp.to(device), target.to(device)  # Move input and target tensors to device\n",
    "    \n",
    "    decoder.zero_grad()\n",
    "    loss = 0\n",
    "\n",
    "    for c in range(chunk_len):\n",
    "        output, hidden = decoder(inp[c].unsqueeze(0), hidden)\n",
    "        loss += criterion(output, target[c].unsqueeze(0))\n",
    "\n",
    "    loss.backward()\n",
    "    decoder_optimizer.step()\n",
    "\n",
    "    return loss.item() / chunk_len\n"
   ]
  },
  {
   "cell_type": "code",
   "execution_count": 296,
   "id": "7d80b8ea",
   "metadata": {},
   "outputs": [
    {
     "name": "stdout",
     "output_type": "stream",
     "text": [
      "[0m 17s (250 5%) 2.4922]\n",
      "Gent Ceat Sept food neresty Iver pisting CeHHHHHHYUque cants nand compur eamn injorlison indenteras I  \n",
      "\n",
      "[0m 34s (500 10%) 1.8605]\n",
      "Gem hrad class adurescessate one sam I opleatitioule fance see You I stronymenth dorym anywow anyhould \n",
      "\n",
      "[0m 51s (750 15%) 1.8974]\n",
      "Ger actad It foullan farting sumpers dont Bair Thanks Its Tuity take sone finance fund raus Tins compl \n",
      "\n",
      "[1m 9s (1000 20%) 1.6403]\n",
      "Gesson us Moy got bion live Maybely quarter Deavil look around t invants I thou Chorm This majore ligh \n",
      "\n",
      "[1m 26s (1250 25%) 1.6041]\n",
      "Gets think tooks tolle under seconsuble make treality So gan worrily prign stuad UCSD lot got wnouble  \n",
      "\n",
      "[1m 44s (1500 30%) 1.6187]\n",
      "Gerce probates CSE mobled Sing ecess perfapastlers happose oking rang changle event genering though I  \n",
      "\n",
      "[2m 1s (1750 35%) 1.6453]\n",
      "Geg reaso Yus Right proces Nectually year tower canting time us Not see wainter college If bits class  \n",
      "\n",
      "[2m 18s (2000 40%) 1.9496]\n",
      "Ger start anothunilaon Masises cirding housing tryphs contill School event back I look sholl Please hr \n",
      "\n",
      "[2m 35s (2250 45%) 1.4819]\n",
      "Gextings prient I classes sacting see office always neever And I necrad year trying hours I excinicall \n",
      "\n",
      "[2m 52s (2500 50%) 1.9292]\n",
      "Ge exece majar course problem CSE high awars prof want test therent discurver competay see everything  \n",
      "\n",
      "[3m 9s (2750 55%) 1.8238]\n",
      "Gers ls like frfice really surves would every class light I get shitple really happen person mount reg \n",
      "\n",
      "[3m 26s (3000 60%) 1.9265]\n",
      "Ge best would books I deduce Bigh advice Way studing one permongterating Relary email Heesing find peo \n",
      "\n",
      "[3m 43s (3250 65%) 1.6308]\n",
      "Ge I classes second GE tell VS COVS dont got suppole Seind youre way creed think prerted shitple beh s \n",
      "\n",
      "[4m 0s (3500 70%) 1.5724]\n",
      "Gell wormages get startestled Abmitted Started another Ugem I mempthool stang really thought mean ther \n",
      "\n",
      "[4m 17s (3750 75%) 1.6670]\n",
      "Ger transfer arent Jowent experience like made depend ask lough theyre thress avoing theyll start fina \n",
      "\n",
      "[4m 34s (4000 80%) 2.2023]\n",
      "Gest possing It course state went osersibing class exaving main classes diffeel assuction measte like  \n",
      "\n",
      "[4m 51s (4250 85%) 1.6348]\n",
      "Ger I folsidra studentch capping howing Percequations done MMy wornships major portually loan firsted  \n",
      "\n",
      "[5m 8s (4500 90%) 1.4916]\n",
      "GeHAI gone I slee use let moved youre overry someonse great college they I feel keeping course comment \n",
      "\n",
      "[5m 26s (4750 95%) 1.3117]\n",
      "Ges could proble ouse procore letten enrolled friend cuntion In behall early way goining even I may I  \n",
      "\n",
      "[5m 43s (5000 100%) 1.6810]\n",
      "Geb alcomment conthican everant I hard really econore All anymomen workers They school change would wo \n",
      "\n"
     ]
    }
   ],
   "source": [
    "n_epochs = 5000\n",
    "print_every = 250\n",
    "plot_every = 100\n",
    "hidden_size = 100\n",
    "n_layers = 1\n",
    "lr = 0.005\n",
    "\n",
    "decoder = RNN(n_characters, hidden_size, n_characters, n_layers)\n",
    "decoder = decoder.to(device)\n",
    "decoder_optimizer = torch.optim.Adam(decoder.parameters(), lr=lr)\n",
    "criterion = nn.CrossEntropyLoss()\n",
    "\n",
    "start = time.time()\n",
    "all_losses = []\n",
    "loss_avg = 0\n",
    "\n",
    "for epoch in range(1, n_epochs + 1):\n",
    "    loss = train(*random_training_set())       \n",
    "    loss_avg += loss\n",
    "\n",
    "    if epoch % print_every == 0:\n",
    "        print('[%s (%d %d%%) %.4f]' % (time_since(start), epoch, epoch / n_epochs * 100, loss))\n",
    "        print(evaluate('Ge', 100), '\\n')\n",
    "\n",
    "    if epoch % plot_every == 0:\n",
    "        all_losses.append(loss_avg / plot_every)\n",
    "        loss_avg = 0"
   ]
  },
  {
   "cell_type": "code",
   "execution_count": 298,
   "id": "a3208603",
   "metadata": {},
   "outputs": [
    {
     "data": {
      "text/plain": [
       "[<matplotlib.lines.Line2D at 0x2249ec97df0>]"
      ]
     },
     "execution_count": 298,
     "metadata": {},
     "output_type": "execute_result"
    },
    {
     "data": {
      "image/png": "[encoded data removed]",
      "text/plain": [
       "<Figure size 640x480 with 1 Axes>"
      ]
     },
     "metadata": {},
     "output_type": "display_data"
    }
   ],
   "source": [
    "import matplotlib.pyplot as plt\n",
    "import matplotlib.ticker as ticker\n",
    "%matplotlib inline\n",
    "\n",
    "plt.figure()\n",
    "plt.plot(all_losses)"
   ]
  },
  {
   "cell_type": "code",
   "execution_count": 395,
   "id": "7d5dc3aa",
   "metadata": {},
   "outputs": [
    {
     "data": {
      "text/plain": [
       "'reven students everyone students content check course check check everyone make students also completely'"
      ]
     },
     "execution_count": 395,
     "metadata": {},
     "output_type": "execute_result"
    }
   ],
   "source": [
    "evaluate('reve', 100, temperature = 0.2)"
   ]
  },
  {
   "cell_type": "code",
   "execution_count": null,
   "id": "da27be65",
   "metadata": {},
   "outputs": [],
   "source": []
  },
  {
   "cell_type": "code",
   "execution_count": null,
   "id": "b711c038",
   "metadata": {},
   "outputs": [],
   "source": []
  }
 ],
 "metadata": {
  "kernelspec": {
   "display_name": "Python 3 (ipykernel)",
   "language": "python",
   "name": "python3"
  },
  "language_info": {
   "codemirror_mode": {
    "name": "ipython",
    "version": 3
   },
   "file_extension": ".py",
   "mimetype": "text/x-python",
   "name": "python",
   "nbconvert_exporter": "python",
   "pygments_lexer": "ipython3",
   "version": "3.9.18"
  }
 },
 "nbformat": 4,
 "nbformat_minor": 5
}
